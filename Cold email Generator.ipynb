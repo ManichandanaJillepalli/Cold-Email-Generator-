{
 "cells": [
  {
   "cell_type": "code",
   "execution_count": 1,
   "id": "4bef6789",
   "metadata": {
    "scrolled": true
   },
   "outputs": [
    {
     "name": "stdout",
     "output_type": "stream",
     "text": [
      "Requirement already satisfied: langchain-groq in /Users/mjillepalli/anaconda3/lib/python3.11/site-packages (0.3.2)\n",
      "Requirement already satisfied: langchain-core<1.0.0,>=0.3.49 in /Users/mjillepalli/anaconda3/lib/python3.11/site-packages (from langchain-groq) (0.3.56)\n",
      "Requirement already satisfied: groq<1,>=0.4.1 in /Users/mjillepalli/anaconda3/lib/python3.11/site-packages (from langchain-groq) (0.23.1)\n",
      "Requirement already satisfied: anyio<5,>=3.5.0 in /Users/mjillepalli/anaconda3/lib/python3.11/site-packages (from groq<1,>=0.4.1->langchain-groq) (4.9.0)\n",
      "Requirement already satisfied: distro<2,>=1.7.0 in /Users/mjillepalli/anaconda3/lib/python3.11/site-packages (from groq<1,>=0.4.1->langchain-groq) (1.9.0)\n",
      "Requirement already satisfied: httpx<1,>=0.23.0 in /Users/mjillepalli/anaconda3/lib/python3.11/site-packages (from groq<1,>=0.4.1->langchain-groq) (0.28.1)\n",
      "Requirement already satisfied: pydantic<3,>=1.9.0 in /Users/mjillepalli/anaconda3/lib/python3.11/site-packages (from groq<1,>=0.4.1->langchain-groq) (2.11.3)\n",
      "Requirement already satisfied: sniffio in /Users/mjillepalli/anaconda3/lib/python3.11/site-packages (from groq<1,>=0.4.1->langchain-groq) (1.2.0)\n",
      "Requirement already satisfied: typing-extensions<5,>=4.10 in /Users/mjillepalli/anaconda3/lib/python3.11/site-packages (from groq<1,>=0.4.1->langchain-groq) (4.13.2)\n",
      "Requirement already satisfied: langsmith<0.4,>=0.1.125 in /Users/mjillepalli/anaconda3/lib/python3.11/site-packages (from langchain-core<1.0.0,>=0.3.49->langchain-groq) (0.3.34)\n",
      "Requirement already satisfied: tenacity!=8.4.0,<10.0.0,>=8.1.0 in /Users/mjillepalli/anaconda3/lib/python3.11/site-packages (from langchain-core<1.0.0,>=0.3.49->langchain-groq) (9.1.2)\n",
      "Requirement already satisfied: jsonpatch<2.0,>=1.33 in /Users/mjillepalli/anaconda3/lib/python3.11/site-packages (from langchain-core<1.0.0,>=0.3.49->langchain-groq) (1.33)\n",
      "Requirement already satisfied: PyYAML>=5.3 in /Users/mjillepalli/anaconda3/lib/python3.11/site-packages (from langchain-core<1.0.0,>=0.3.49->langchain-groq) (6.0)\n",
      "Requirement already satisfied: packaging<25,>=23.2 in /Users/mjillepalli/anaconda3/lib/python3.11/site-packages (from langchain-core<1.0.0,>=0.3.49->langchain-groq) (24.2)\n",
      "Requirement already satisfied: idna>=2.8 in /Users/mjillepalli/anaconda3/lib/python3.11/site-packages (from anyio<5,>=3.5.0->groq<1,>=0.4.1->langchain-groq) (3.4)\n",
      "Requirement already satisfied: certifi in /Users/mjillepalli/anaconda3/lib/python3.11/site-packages (from httpx<1,>=0.23.0->groq<1,>=0.4.1->langchain-groq) (2023.7.22)\n",
      "Requirement already satisfied: httpcore==1.* in /Users/mjillepalli/anaconda3/lib/python3.11/site-packages (from httpx<1,>=0.23.0->groq<1,>=0.4.1->langchain-groq) (1.0.9)\n",
      "Requirement already satisfied: h11>=0.16 in /Users/mjillepalli/anaconda3/lib/python3.11/site-packages (from httpcore==1.*->httpx<1,>=0.23.0->groq<1,>=0.4.1->langchain-groq) (0.16.0)\n",
      "Requirement already satisfied: jsonpointer>=1.9 in /Users/mjillepalli/anaconda3/lib/python3.11/site-packages (from jsonpatch<2.0,>=1.33->langchain-core<1.0.0,>=0.3.49->langchain-groq) (2.1)\n",
      "Requirement already satisfied: orjson<4.0.0,>=3.9.14 in /Users/mjillepalli/anaconda3/lib/python3.11/site-packages (from langsmith<0.4,>=0.1.125->langchain-core<1.0.0,>=0.3.49->langchain-groq) (3.10.16)\n",
      "Requirement already satisfied: requests<3,>=2 in /Users/mjillepalli/anaconda3/lib/python3.11/site-packages (from langsmith<0.4,>=0.1.125->langchain-core<1.0.0,>=0.3.49->langchain-groq) (2.31.0)\n",
      "Requirement already satisfied: requests-toolbelt<2.0.0,>=1.0.0 in /Users/mjillepalli/anaconda3/lib/python3.11/site-packages (from langsmith<0.4,>=0.1.125->langchain-core<1.0.0,>=0.3.49->langchain-groq) (1.0.0)\n",
      "Requirement already satisfied: zstandard<0.24.0,>=0.23.0 in /Users/mjillepalli/anaconda3/lib/python3.11/site-packages (from langsmith<0.4,>=0.1.125->langchain-core<1.0.0,>=0.3.49->langchain-groq) (0.23.0)\n",
      "Requirement already satisfied: annotated-types>=0.6.0 in /Users/mjillepalli/anaconda3/lib/python3.11/site-packages (from pydantic<3,>=1.9.0->groq<1,>=0.4.1->langchain-groq) (0.7.0)\n",
      "Requirement already satisfied: pydantic-core==2.33.1 in /Users/mjillepalli/anaconda3/lib/python3.11/site-packages (from pydantic<3,>=1.9.0->groq<1,>=0.4.1->langchain-groq) (2.33.1)\n",
      "Requirement already satisfied: typing-inspection>=0.4.0 in /Users/mjillepalli/anaconda3/lib/python3.11/site-packages (from pydantic<3,>=1.9.0->groq<1,>=0.4.1->langchain-groq) (0.4.0)\n",
      "Requirement already satisfied: charset-normalizer<4,>=2 in /Users/mjillepalli/anaconda3/lib/python3.11/site-packages (from requests<3,>=2->langsmith<0.4,>=0.1.125->langchain-core<1.0.0,>=0.3.49->langchain-groq) (2.0.4)\n",
      "Requirement already satisfied: urllib3<3,>=1.21.1 in /Users/mjillepalli/anaconda3/lib/python3.11/site-packages (from requests<3,>=2->langsmith<0.4,>=0.1.125->langchain-core<1.0.0,>=0.3.49->langchain-groq) (1.26.16)\n",
      "Note: you may need to restart the kernel to use updated packages.\n"
     ]
    }
   ],
   "source": [
    "pip install langchain-groq\n"
   ]
  },
  {
   "cell_type": "code",
   "execution_count": 2,
   "id": "ba021657",
   "metadata": {
    "scrolled": true
   },
   "outputs": [
    {
     "name": "stdout",
     "output_type": "stream",
     "text": [
      "Requirement already satisfied: chromadb in /Users/mjillepalli/anaconda3/lib/python3.11/site-packages (1.0.7)\n",
      "Requirement already satisfied: build>=1.0.3 in /Users/mjillepalli/anaconda3/lib/python3.11/site-packages (from chromadb) (1.2.2.post1)\n",
      "Requirement already satisfied: pydantic>=1.9 in /Users/mjillepalli/anaconda3/lib/python3.11/site-packages (from chromadb) (2.11.3)\n",
      "Requirement already satisfied: chroma-hnswlib==0.7.6 in /Users/mjillepalli/anaconda3/lib/python3.11/site-packages (from chromadb) (0.7.6)\n",
      "Requirement already satisfied: fastapi==0.115.9 in /Users/mjillepalli/anaconda3/lib/python3.11/site-packages (from chromadb) (0.115.9)\n",
      "Requirement already satisfied: uvicorn[standard]>=0.18.3 in /Users/mjillepalli/anaconda3/lib/python3.11/site-packages (from chromadb) (0.34.2)\n",
      "Requirement already satisfied: numpy>=1.22.5 in /Users/mjillepalli/anaconda3/lib/python3.11/site-packages (from chromadb) (1.26.4)\n",
      "Requirement already satisfied: posthog>=2.4.0 in /Users/mjillepalli/anaconda3/lib/python3.11/site-packages (from chromadb) (4.0.0)\n",
      "Requirement already satisfied: typing-extensions>=4.5.0 in /Users/mjillepalli/anaconda3/lib/python3.11/site-packages (from chromadb) (4.13.2)\n",
      "Requirement already satisfied: onnxruntime>=1.14.1 in /Users/mjillepalli/anaconda3/lib/python3.11/site-packages (from chromadb) (1.21.1)\n",
      "Requirement already satisfied: opentelemetry-api>=1.2.0 in /Users/mjillepalli/anaconda3/lib/python3.11/site-packages (from chromadb) (1.32.1)\n",
      "Requirement already satisfied: opentelemetry-exporter-otlp-proto-grpc>=1.2.0 in /Users/mjillepalli/anaconda3/lib/python3.11/site-packages (from chromadb) (1.32.1)\n",
      "Requirement already satisfied: opentelemetry-instrumentation-fastapi>=0.41b0 in /Users/mjillepalli/anaconda3/lib/python3.11/site-packages (from chromadb) (0.53b1)\n",
      "Requirement already satisfied: opentelemetry-sdk>=1.2.0 in /Users/mjillepalli/anaconda3/lib/python3.11/site-packages (from chromadb) (1.32.1)\n",
      "Requirement already satisfied: tokenizers>=0.13.2 in /Users/mjillepalli/anaconda3/lib/python3.11/site-packages (from chromadb) (0.21.1)\n",
      "Requirement already satisfied: pypika>=0.48.9 in /Users/mjillepalli/anaconda3/lib/python3.11/site-packages (from chromadb) (0.48.9)\n",
      "Requirement already satisfied: tqdm>=4.65.0 in /Users/mjillepalli/anaconda3/lib/python3.11/site-packages (from chromadb) (4.65.0)\n",
      "Requirement already satisfied: overrides>=7.3.1 in /Users/mjillepalli/anaconda3/lib/python3.11/site-packages (from chromadb) (7.7.0)\n",
      "Requirement already satisfied: importlib-resources in /Users/mjillepalli/anaconda3/lib/python3.11/site-packages (from chromadb) (6.5.2)\n",
      "Requirement already satisfied: grpcio>=1.58.0 in /Users/mjillepalli/anaconda3/lib/python3.11/site-packages (from chromadb) (1.71.0)\n",
      "Requirement already satisfied: bcrypt>=4.0.1 in /Users/mjillepalli/anaconda3/lib/python3.11/site-packages (from chromadb) (4.3.0)\n",
      "Requirement already satisfied: typer>=0.9.0 in /Users/mjillepalli/anaconda3/lib/python3.11/site-packages (from chromadb) (0.15.2)\n",
      "Requirement already satisfied: kubernetes>=28.1.0 in /Users/mjillepalli/anaconda3/lib/python3.11/site-packages (from chromadb) (32.0.1)\n",
      "Requirement already satisfied: tenacity>=8.2.3 in /Users/mjillepalli/anaconda3/lib/python3.11/site-packages (from chromadb) (9.1.2)\n",
      "Requirement already satisfied: pyyaml>=6.0.0 in /Users/mjillepalli/anaconda3/lib/python3.11/site-packages (from chromadb) (6.0)\n",
      "Requirement already satisfied: mmh3>=4.0.1 in /Users/mjillepalli/anaconda3/lib/python3.11/site-packages (from chromadb) (5.1.0)\n",
      "Requirement already satisfied: orjson>=3.9.12 in /Users/mjillepalli/anaconda3/lib/python3.11/site-packages (from chromadb) (3.10.16)\n",
      "Requirement already satisfied: httpx>=0.27.0 in /Users/mjillepalli/anaconda3/lib/python3.11/site-packages (from chromadb) (0.28.1)\n",
      "Requirement already satisfied: rich>=10.11.0 in /Users/mjillepalli/anaconda3/lib/python3.11/site-packages (from chromadb) (14.0.0)\n",
      "Requirement already satisfied: jsonschema>=4.19.0 in /Users/mjillepalli/anaconda3/lib/python3.11/site-packages (from chromadb) (4.23.0)\n",
      "Requirement already satisfied: starlette<0.46.0,>=0.40.0 in /Users/mjillepalli/anaconda3/lib/python3.11/site-packages (from fastapi==0.115.9->chromadb) (0.45.3)\n",
      "Requirement already satisfied: packaging>=19.1 in /Users/mjillepalli/anaconda3/lib/python3.11/site-packages (from build>=1.0.3->chromadb) (24.2)\n",
      "Requirement already satisfied: pyproject_hooks in /Users/mjillepalli/anaconda3/lib/python3.11/site-packages (from build>=1.0.3->chromadb) (1.2.0)\n",
      "Requirement already satisfied: anyio in /Users/mjillepalli/anaconda3/lib/python3.11/site-packages (from httpx>=0.27.0->chromadb) (4.9.0)\n",
      "Requirement already satisfied: certifi in /Users/mjillepalli/anaconda3/lib/python3.11/site-packages (from httpx>=0.27.0->chromadb) (2023.7.22)\n",
      "Requirement already satisfied: httpcore==1.* in /Users/mjillepalli/anaconda3/lib/python3.11/site-packages (from httpx>=0.27.0->chromadb) (1.0.9)\n",
      "Requirement already satisfied: idna in /Users/mjillepalli/anaconda3/lib/python3.11/site-packages (from httpx>=0.27.0->chromadb) (3.4)\n",
      "Requirement already satisfied: h11>=0.16 in /Users/mjillepalli/anaconda3/lib/python3.11/site-packages (from httpcore==1.*->httpx>=0.27.0->chromadb) (0.16.0)\n",
      "Requirement already satisfied: attrs>=22.2.0 in /Users/mjillepalli/anaconda3/lib/python3.11/site-packages (from jsonschema>=4.19.0->chromadb) (25.3.0)\n",
      "Requirement already satisfied: jsonschema-specifications>=2023.03.6 in /Users/mjillepalli/anaconda3/lib/python3.11/site-packages (from jsonschema>=4.19.0->chromadb) (2025.4.1)\n",
      "Requirement already satisfied: referencing>=0.28.4 in /Users/mjillepalli/anaconda3/lib/python3.11/site-packages (from jsonschema>=4.19.0->chromadb) (0.36.2)\n",
      "Requirement already satisfied: rpds-py>=0.7.1 in /Users/mjillepalli/anaconda3/lib/python3.11/site-packages (from jsonschema>=4.19.0->chromadb) (0.24.0)\n",
      "Requirement already satisfied: six>=1.9.0 in /Users/mjillepalli/anaconda3/lib/python3.11/site-packages (from kubernetes>=28.1.0->chromadb) (1.16.0)\n",
      "Requirement already satisfied: python-dateutil>=2.5.3 in /Users/mjillepalli/anaconda3/lib/python3.11/site-packages (from kubernetes>=28.1.0->chromadb) (2.8.2)\n",
      "Requirement already satisfied: google-auth>=1.0.1 in /Users/mjillepalli/anaconda3/lib/python3.11/site-packages (from kubernetes>=28.1.0->chromadb) (2.29.0)\n",
      "Requirement already satisfied: websocket-client!=0.40.0,!=0.41.*,!=0.42.*,>=0.32.0 in /Users/mjillepalli/anaconda3/lib/python3.11/site-packages (from kubernetes>=28.1.0->chromadb) (0.58.0)\n",
      "Requirement already satisfied: requests in /Users/mjillepalli/anaconda3/lib/python3.11/site-packages (from kubernetes>=28.1.0->chromadb) (2.31.0)\n",
      "Requirement already satisfied: requests-oauthlib in /Users/mjillepalli/anaconda3/lib/python3.11/site-packages (from kubernetes>=28.1.0->chromadb) (1.3.1)\n",
      "Requirement already satisfied: oauthlib>=3.2.2 in /Users/mjillepalli/anaconda3/lib/python3.11/site-packages (from kubernetes>=28.1.0->chromadb) (3.2.2)\n",
      "Requirement already satisfied: urllib3>=1.24.2 in /Users/mjillepalli/anaconda3/lib/python3.11/site-packages (from kubernetes>=28.1.0->chromadb) (1.26.16)\n",
      "Requirement already satisfied: durationpy>=0.7 in /Users/mjillepalli/anaconda3/lib/python3.11/site-packages (from kubernetes>=28.1.0->chromadb) (0.9)\n",
      "Requirement already satisfied: coloredlogs in /Users/mjillepalli/anaconda3/lib/python3.11/site-packages (from onnxruntime>=1.14.1->chromadb) (15.0.1)\n",
      "Requirement already satisfied: flatbuffers in /Users/mjillepalli/anaconda3/lib/python3.11/site-packages (from onnxruntime>=1.14.1->chromadb) (25.2.10)\n",
      "Requirement already satisfied: protobuf in /Users/mjillepalli/anaconda3/lib/python3.11/site-packages (from onnxruntime>=1.14.1->chromadb) (5.29.4)\n",
      "Requirement already satisfied: sympy in /Users/mjillepalli/anaconda3/lib/python3.11/site-packages (from onnxruntime>=1.14.1->chromadb) (1.13.3)\n",
      "Requirement already satisfied: deprecated>=1.2.6 in /Users/mjillepalli/anaconda3/lib/python3.11/site-packages (from opentelemetry-api>=1.2.0->chromadb) (1.2.18)\n",
      "Requirement already satisfied: importlib-metadata<8.7.0,>=6.0 in /Users/mjillepalli/anaconda3/lib/python3.11/site-packages (from opentelemetry-api>=1.2.0->chromadb) (6.0.0)\n",
      "Requirement already satisfied: googleapis-common-protos~=1.52 in /Users/mjillepalli/anaconda3/lib/python3.11/site-packages (from opentelemetry-exporter-otlp-proto-grpc>=1.2.0->chromadb) (1.70.0)\n",
      "Requirement already satisfied: opentelemetry-exporter-otlp-proto-common==1.32.1 in /Users/mjillepalli/anaconda3/lib/python3.11/site-packages (from opentelemetry-exporter-otlp-proto-grpc>=1.2.0->chromadb) (1.32.1)\n",
      "Requirement already satisfied: opentelemetry-proto==1.32.1 in /Users/mjillepalli/anaconda3/lib/python3.11/site-packages (from opentelemetry-exporter-otlp-proto-grpc>=1.2.0->chromadb) (1.32.1)\n",
      "Requirement already satisfied: opentelemetry-instrumentation-asgi==0.53b1 in /Users/mjillepalli/anaconda3/lib/python3.11/site-packages (from opentelemetry-instrumentation-fastapi>=0.41b0->chromadb) (0.53b1)\n",
      "Requirement already satisfied: opentelemetry-instrumentation==0.53b1 in /Users/mjillepalli/anaconda3/lib/python3.11/site-packages (from opentelemetry-instrumentation-fastapi>=0.41b0->chromadb) (0.53b1)\n",
      "Requirement already satisfied: opentelemetry-semantic-conventions==0.53b1 in /Users/mjillepalli/anaconda3/lib/python3.11/site-packages (from opentelemetry-instrumentation-fastapi>=0.41b0->chromadb) (0.53b1)\n",
      "Requirement already satisfied: opentelemetry-util-http==0.53b1 in /Users/mjillepalli/anaconda3/lib/python3.11/site-packages (from opentelemetry-instrumentation-fastapi>=0.41b0->chromadb) (0.53b1)\n",
      "Requirement already satisfied: wrapt<2.0.0,>=1.0.0 in /Users/mjillepalli/anaconda3/lib/python3.11/site-packages (from opentelemetry-instrumentation==0.53b1->opentelemetry-instrumentation-fastapi>=0.41b0->chromadb) (1.14.1)\n",
      "Requirement already satisfied: asgiref~=3.0 in /Users/mjillepalli/anaconda3/lib/python3.11/site-packages (from opentelemetry-instrumentation-asgi==0.53b1->opentelemetry-instrumentation-fastapi>=0.41b0->chromadb) (3.8.1)\n",
      "Requirement already satisfied: monotonic>=1.5 in /Users/mjillepalli/anaconda3/lib/python3.11/site-packages (from posthog>=2.4.0->chromadb) (1.6)\n",
      "Requirement already satisfied: backoff>=1.10.0 in /Users/mjillepalli/anaconda3/lib/python3.11/site-packages (from posthog>=2.4.0->chromadb) (2.2.1)\n",
      "Requirement already satisfied: distro>=1.5.0 in /Users/mjillepalli/anaconda3/lib/python3.11/site-packages (from posthog>=2.4.0->chromadb) (1.9.0)\n"
     ]
    },
    {
     "name": "stdout",
     "output_type": "stream",
     "text": [
      "Requirement already satisfied: annotated-types>=0.6.0 in /Users/mjillepalli/anaconda3/lib/python3.11/site-packages (from pydantic>=1.9->chromadb) (0.7.0)\n",
      "Requirement already satisfied: pydantic-core==2.33.1 in /Users/mjillepalli/anaconda3/lib/python3.11/site-packages (from pydantic>=1.9->chromadb) (2.33.1)\n",
      "Requirement already satisfied: typing-inspection>=0.4.0 in /Users/mjillepalli/anaconda3/lib/python3.11/site-packages (from pydantic>=1.9->chromadb) (0.4.0)\n",
      "Requirement already satisfied: markdown-it-py>=2.2.0 in /Users/mjillepalli/anaconda3/lib/python3.11/site-packages (from rich>=10.11.0->chromadb) (2.2.0)\n",
      "Requirement already satisfied: pygments<3.0.0,>=2.13.0 in /Users/mjillepalli/anaconda3/lib/python3.11/site-packages (from rich>=10.11.0->chromadb) (2.15.1)\n",
      "Requirement already satisfied: huggingface-hub<1.0,>=0.16.4 in /Users/mjillepalli/anaconda3/lib/python3.11/site-packages (from tokenizers>=0.13.2->chromadb) (0.30.2)\n",
      "Requirement already satisfied: click>=8.0.0 in /Users/mjillepalli/anaconda3/lib/python3.11/site-packages (from typer>=0.9.0->chromadb) (8.0.4)\n",
      "Requirement already satisfied: shellingham>=1.3.0 in /Users/mjillepalli/anaconda3/lib/python3.11/site-packages (from typer>=0.9.0->chromadb) (1.5.4)\n",
      "Requirement already satisfied: httptools>=0.6.3 in /Users/mjillepalli/anaconda3/lib/python3.11/site-packages (from uvicorn[standard]>=0.18.3->chromadb) (0.6.4)\n",
      "Requirement already satisfied: python-dotenv>=0.13 in /Users/mjillepalli/anaconda3/lib/python3.11/site-packages (from uvicorn[standard]>=0.18.3->chromadb) (0.21.0)\n",
      "Requirement already satisfied: uvloop!=0.15.0,!=0.15.1,>=0.14.0 in /Users/mjillepalli/anaconda3/lib/python3.11/site-packages (from uvicorn[standard]>=0.18.3->chromadb) (0.21.0)\n",
      "Requirement already satisfied: watchfiles>=0.13 in /Users/mjillepalli/anaconda3/lib/python3.11/site-packages (from uvicorn[standard]>=0.18.3->chromadb) (1.0.5)\n",
      "Requirement already satisfied: websockets>=10.4 in /Users/mjillepalli/anaconda3/lib/python3.11/site-packages (from uvicorn[standard]>=0.18.3->chromadb) (15.0.1)\n",
      "Requirement already satisfied: cachetools<6.0,>=2.0.0 in /Users/mjillepalli/anaconda3/lib/python3.11/site-packages (from google-auth>=1.0.1->kubernetes>=28.1.0->chromadb) (5.3.2)\n",
      "Requirement already satisfied: pyasn1-modules>=0.2.1 in /Users/mjillepalli/anaconda3/lib/python3.11/site-packages (from google-auth>=1.0.1->kubernetes>=28.1.0->chromadb) (0.2.8)\n",
      "Requirement already satisfied: rsa<5,>=3.1.4 in /Users/mjillepalli/anaconda3/lib/python3.11/site-packages (from google-auth>=1.0.1->kubernetes>=28.1.0->chromadb) (4.9)\n",
      "Requirement already satisfied: filelock in /Users/mjillepalli/anaconda3/lib/python3.11/site-packages (from huggingface-hub<1.0,>=0.16.4->tokenizers>=0.13.2->chromadb) (3.9.0)\n",
      "Requirement already satisfied: fsspec>=2023.5.0 in /Users/mjillepalli/anaconda3/lib/python3.11/site-packages (from huggingface-hub<1.0,>=0.16.4->tokenizers>=0.13.2->chromadb) (2025.3.2)\n",
      "Requirement already satisfied: zipp>=0.5 in /Users/mjillepalli/anaconda3/lib/python3.11/site-packages (from importlib-metadata<8.7.0,>=6.0->opentelemetry-api>=1.2.0->chromadb) (3.11.0)\n",
      "Requirement already satisfied: mdurl~=0.1 in /Users/mjillepalli/anaconda3/lib/python3.11/site-packages (from markdown-it-py>=2.2.0->rich>=10.11.0->chromadb) (0.1.0)\n",
      "Requirement already satisfied: charset-normalizer<4,>=2 in /Users/mjillepalli/anaconda3/lib/python3.11/site-packages (from requests->kubernetes>=28.1.0->chromadb) (2.0.4)\n",
      "Requirement already satisfied: sniffio>=1.1 in /Users/mjillepalli/anaconda3/lib/python3.11/site-packages (from anyio->httpx>=0.27.0->chromadb) (1.2.0)\n",
      "Requirement already satisfied: humanfriendly>=9.1 in /Users/mjillepalli/anaconda3/lib/python3.11/site-packages (from coloredlogs->onnxruntime>=1.14.1->chromadb) (10.0)\n",
      "Requirement already satisfied: mpmath<1.4,>=1.1.0 in /Users/mjillepalli/anaconda3/lib/python3.11/site-packages (from sympy->onnxruntime>=1.14.1->chromadb) (1.3.0)\n",
      "Requirement already satisfied: pyasn1<0.5.0,>=0.4.6 in /Users/mjillepalli/anaconda3/lib/python3.11/site-packages (from pyasn1-modules>=0.2.1->google-auth>=1.0.1->kubernetes>=28.1.0->chromadb) (0.4.8)\n",
      "Note: you may need to restart the kernel to use updated packages.\n"
     ]
    }
   ],
   "source": [
    "pip install chromadb"
   ]
  },
  {
   "cell_type": "code",
   "execution_count": 3,
   "id": "bfa4d854",
   "metadata": {},
   "outputs": [],
   "source": [
    "from langchain_groq import ChatGroq"
   ]
  },
  {
   "cell_type": "code",
   "execution_count": 4,
   "id": "eecae476",
   "metadata": {
    "scrolled": true
   },
   "outputs": [
    {
     "name": "stdout",
     "output_type": "stream",
     "text": [
      "The father of computer science is widely considered to be Alan Turing (1912-1954), a British mathematician, computer scientist, logician, and philosopher. Turing made significant contributions to the development of computer science, artificial intelligence, and cryptography.\n",
      "\n",
      "Turing's work laid the foundation for modern computer science, including:\n",
      "\n",
      "1. **The Turing Machine**: A theoretical model for a computer that could simulate human computation, which is still studied today.\n",
      "2. **The Turing Test**: A measure of a machine's ability to exhibit intelligent behavior equivalent to, or indistinguishable from, that of a human.\n",
      "3. **Algorithm design**: Turing developed the concept of the algorithm, which is a set of instructions used to solve a problem.\n",
      "4. **Computer programming**: Turing wrote the first computer program, which was used to crack the German Enigma code during World War II.\n",
      "\n",
      "As for the father of Artificial Intelligence (AI), there are several candidates, but the most commonly cited are:\n",
      "\n",
      "1. **John McCarthy** (1927-2011): An American computer scientist and cognitive scientist who coined the term \"Artificial Intelligence\" in 1956. McCarthy made significant contributions to the development of AI, including the creation of the Lisp programming language.\n",
      "2. **Marvin Minsky** (1927-2016) and **Seymour Papert** (1929-2016): American computer scientists who wrote the book \"Perceptrons\" (1969), which introduced the concept of multi-layer neural networks and laid the foundation for modern neural networks.\n",
      "\n",
      "However, Alan Turing's work on the theoretical foundations of computation, the Turing Test, and his vision for machine intelligence make a strong case for him to be considered the father of both computer science and AI.\n"
     ]
    }
   ],
   "source": [
    "llm = ChatGroq(\n",
    "    temperature=0, \n",
    "    groq_api_key='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', \n",
    "    model_name= \"llama3-70b-8192\"\n",
    ")\n",
    "response = llm.invoke(\"Who is the father of computer science and AI ?\")\n",
    "print(response.content)"
   ]
  },
  {
   "cell_type": "code",
   "execution_count": null,
   "id": "be960a3f",
   "metadata": {
    "scrolled": true
   },
   "outputs": [],
   "source": []
  },
  {
   "cell_type": "code",
   "execution_count": null,
   "id": "dbe4d993",
   "metadata": {},
   "outputs": [],
   "source": [
    "#using webbase loader from langchain document"
   ]
  },
  {
   "cell_type": "code",
   "execution_count": 5,
   "id": "c59ab01d",
   "metadata": {
    "scrolled": true
   },
   "outputs": [
    {
     "name": "stdout",
     "output_type": "stream",
     "text": [
      "Requirement already satisfied: langchain-community in /Users/mjillepalli/anaconda3/lib/python3.11/site-packages (0.3.22)\n",
      "Requirement already satisfied: langchain-core<1.0.0,>=0.3.55 in /Users/mjillepalli/anaconda3/lib/python3.11/site-packages (from langchain-community) (0.3.56)\n",
      "Requirement already satisfied: langchain<1.0.0,>=0.3.24 in /Users/mjillepalli/anaconda3/lib/python3.11/site-packages (from langchain-community) (0.3.24)\n",
      "Requirement already satisfied: SQLAlchemy<3,>=1.4 in /Users/mjillepalli/anaconda3/lib/python3.11/site-packages (from langchain-community) (1.4.39)\n",
      "Requirement already satisfied: requests<3,>=2 in /Users/mjillepalli/anaconda3/lib/python3.11/site-packages (from langchain-community) (2.31.0)\n",
      "Requirement already satisfied: PyYAML>=5.3 in /Users/mjillepalli/anaconda3/lib/python3.11/site-packages (from langchain-community) (6.0)\n",
      "Requirement already satisfied: aiohttp<4.0.0,>=3.8.3 in /Users/mjillepalli/anaconda3/lib/python3.11/site-packages (from langchain-community) (3.8.5)\n",
      "Requirement already satisfied: tenacity!=8.4.0,<10,>=8.1.0 in /Users/mjillepalli/anaconda3/lib/python3.11/site-packages (from langchain-community) (9.1.2)\n",
      "Requirement already satisfied: dataclasses-json<0.7,>=0.5.7 in /Users/mjillepalli/anaconda3/lib/python3.11/site-packages (from langchain-community) (0.6.7)\n",
      "Requirement already satisfied: pydantic-settings<3.0.0,>=2.4.0 in /Users/mjillepalli/anaconda3/lib/python3.11/site-packages (from langchain-community) (2.9.1)\n",
      "Requirement already satisfied: langsmith<0.4,>=0.1.125 in /Users/mjillepalli/anaconda3/lib/python3.11/site-packages (from langchain-community) (0.3.34)\n",
      "Requirement already satisfied: httpx-sse<1.0.0,>=0.4.0 in /Users/mjillepalli/anaconda3/lib/python3.11/site-packages (from langchain-community) (0.4.0)\n",
      "Requirement already satisfied: numpy>=1.26.2 in /Users/mjillepalli/anaconda3/lib/python3.11/site-packages (from langchain-community) (1.26.4)\n",
      "Requirement already satisfied: attrs>=17.3.0 in /Users/mjillepalli/anaconda3/lib/python3.11/site-packages (from aiohttp<4.0.0,>=3.8.3->langchain-community) (25.3.0)\n",
      "Requirement already satisfied: charset-normalizer<4.0,>=2.0 in /Users/mjillepalli/anaconda3/lib/python3.11/site-packages (from aiohttp<4.0.0,>=3.8.3->langchain-community) (2.0.4)\n",
      "Requirement already satisfied: multidict<7.0,>=4.5 in /Users/mjillepalli/anaconda3/lib/python3.11/site-packages (from aiohttp<4.0.0,>=3.8.3->langchain-community) (6.0.2)\n",
      "Requirement already satisfied: async-timeout<5.0,>=4.0.0a3 in /Users/mjillepalli/anaconda3/lib/python3.11/site-packages (from aiohttp<4.0.0,>=3.8.3->langchain-community) (4.0.2)\n",
      "Requirement already satisfied: yarl<2.0,>=1.0 in /Users/mjillepalli/anaconda3/lib/python3.11/site-packages (from aiohttp<4.0.0,>=3.8.3->langchain-community) (1.8.1)\n",
      "Requirement already satisfied: frozenlist>=1.1.1 in /Users/mjillepalli/anaconda3/lib/python3.11/site-packages (from aiohttp<4.0.0,>=3.8.3->langchain-community) (1.3.3)\n",
      "Requirement already satisfied: aiosignal>=1.1.2 in /Users/mjillepalli/anaconda3/lib/python3.11/site-packages (from aiohttp<4.0.0,>=3.8.3->langchain-community) (1.2.0)\n",
      "Requirement already satisfied: marshmallow<4.0.0,>=3.18.0 in /Users/mjillepalli/anaconda3/lib/python3.11/site-packages (from dataclasses-json<0.7,>=0.5.7->langchain-community) (3.26.1)\n",
      "Requirement already satisfied: typing-inspect<1,>=0.4.0 in /Users/mjillepalli/anaconda3/lib/python3.11/site-packages (from dataclasses-json<0.7,>=0.5.7->langchain-community) (0.9.0)\n",
      "Requirement already satisfied: langchain-text-splitters<1.0.0,>=0.3.8 in /Users/mjillepalli/anaconda3/lib/python3.11/site-packages (from langchain<1.0.0,>=0.3.24->langchain-community) (0.3.8)\n",
      "Requirement already satisfied: pydantic<3.0.0,>=2.7.4 in /Users/mjillepalli/anaconda3/lib/python3.11/site-packages (from langchain<1.0.0,>=0.3.24->langchain-community) (2.11.3)\n",
      "Requirement already satisfied: jsonpatch<2.0,>=1.33 in /Users/mjillepalli/anaconda3/lib/python3.11/site-packages (from langchain-core<1.0.0,>=0.3.55->langchain-community) (1.33)\n",
      "Requirement already satisfied: packaging<25,>=23.2 in /Users/mjillepalli/anaconda3/lib/python3.11/site-packages (from langchain-core<1.0.0,>=0.3.55->langchain-community) (24.2)\n",
      "Requirement already satisfied: typing-extensions>=4.7 in /Users/mjillepalli/anaconda3/lib/python3.11/site-packages (from langchain-core<1.0.0,>=0.3.55->langchain-community) (4.13.2)\n",
      "Requirement already satisfied: httpx<1,>=0.23.0 in /Users/mjillepalli/anaconda3/lib/python3.11/site-packages (from langsmith<0.4,>=0.1.125->langchain-community) (0.28.1)\n",
      "Requirement already satisfied: orjson<4.0.0,>=3.9.14 in /Users/mjillepalli/anaconda3/lib/python3.11/site-packages (from langsmith<0.4,>=0.1.125->langchain-community) (3.10.16)\n",
      "Requirement already satisfied: requests-toolbelt<2.0.0,>=1.0.0 in /Users/mjillepalli/anaconda3/lib/python3.11/site-packages (from langsmith<0.4,>=0.1.125->langchain-community) (1.0.0)\n",
      "Requirement already satisfied: zstandard<0.24.0,>=0.23.0 in /Users/mjillepalli/anaconda3/lib/python3.11/site-packages (from langsmith<0.4,>=0.1.125->langchain-community) (0.23.0)\n",
      "Requirement already satisfied: python-dotenv>=0.21.0 in /Users/mjillepalli/anaconda3/lib/python3.11/site-packages (from pydantic-settings<3.0.0,>=2.4.0->langchain-community) (0.21.0)\n",
      "Requirement already satisfied: typing-inspection>=0.4.0 in /Users/mjillepalli/anaconda3/lib/python3.11/site-packages (from pydantic-settings<3.0.0,>=2.4.0->langchain-community) (0.4.0)\n",
      "Requirement already satisfied: idna<4,>=2.5 in /Users/mjillepalli/anaconda3/lib/python3.11/site-packages (from requests<3,>=2->langchain-community) (3.4)\n",
      "Requirement already satisfied: urllib3<3,>=1.21.1 in /Users/mjillepalli/anaconda3/lib/python3.11/site-packages (from requests<3,>=2->langchain-community) (1.26.16)\n",
      "Requirement already satisfied: certifi>=2017.4.17 in /Users/mjillepalli/anaconda3/lib/python3.11/site-packages (from requests<3,>=2->langchain-community) (2023.7.22)\n",
      "Requirement already satisfied: anyio in /Users/mjillepalli/anaconda3/lib/python3.11/site-packages (from httpx<1,>=0.23.0->langsmith<0.4,>=0.1.125->langchain-community) (4.9.0)\n",
      "Requirement already satisfied: httpcore==1.* in /Users/mjillepalli/anaconda3/lib/python3.11/site-packages (from httpx<1,>=0.23.0->langsmith<0.4,>=0.1.125->langchain-community) (1.0.9)\n",
      "Requirement already satisfied: h11>=0.16 in /Users/mjillepalli/anaconda3/lib/python3.11/site-packages (from httpcore==1.*->httpx<1,>=0.23.0->langsmith<0.4,>=0.1.125->langchain-community) (0.16.0)\n",
      "Requirement already satisfied: jsonpointer>=1.9 in /Users/mjillepalli/anaconda3/lib/python3.11/site-packages (from jsonpatch<2.0,>=1.33->langchain-core<1.0.0,>=0.3.55->langchain-community) (2.1)\n",
      "Requirement already satisfied: annotated-types>=0.6.0 in /Users/mjillepalli/anaconda3/lib/python3.11/site-packages (from pydantic<3.0.0,>=2.7.4->langchain<1.0.0,>=0.3.24->langchain-community) (0.7.0)\n",
      "Requirement already satisfied: pydantic-core==2.33.1 in /Users/mjillepalli/anaconda3/lib/python3.11/site-packages (from pydantic<3.0.0,>=2.7.4->langchain<1.0.0,>=0.3.24->langchain-community) (2.33.1)\n",
      "Requirement already satisfied: mypy-extensions>=0.3.0 in /Users/mjillepalli/anaconda3/lib/python3.11/site-packages (from typing-inspect<1,>=0.4.0->dataclasses-json<0.7,>=0.5.7->langchain-community) (1.0.0)\n",
      "Requirement already satisfied: sniffio>=1.1 in /Users/mjillepalli/anaconda3/lib/python3.11/site-packages (from anyio->httpx<1,>=0.23.0->langsmith<0.4,>=0.1.125->langchain-community) (1.2.0)\n",
      "Note: you may need to restart the kernel to use updated packages.\n"
     ]
    }
   ],
   "source": [
    "pip install langchain-community\n"
   ]
  },
  {
   "cell_type": "code",
   "execution_count": 6,
   "id": "0ac43de0",
   "metadata": {
    "scrolled": true
   },
   "outputs": [
    {
     "name": "stderr",
     "output_type": "stream",
     "text": [
      "USER_AGENT environment variable not set, consider setting it to identify your requests.\n"
     ]
    },
    {
     "name": "stdout",
     "output_type": "stream",
     "text": [
      "\n",
      "\n",
      "Data Scientist, Product Analytics | Meta Careers\n",
      "\n",
      "\n",
      "\n",
      "\n",
      "\n",
      "\n",
      "\n",
      "\n",
      "\n",
      "\n",
      "\n",
      "\n",
      "\n",
      "\n",
      "\n",
      "\n",
      "\n",
      "Data Scientist, Product AnalyticsSunnyvale, CA • Los Angeles, CA • Remote, US • Bellevue, WA • Austin, TX • Menlo Park, CA • Seattle, WA • Burlingame, CA • Washington, DC • New York, NY • San Francisco, CA • Full Time+ 10 more•Full Time - HideMetaData & AnalyticsData ScienceApply to this jobAs a Data Scientist at Meta, you will shape the future of people-facing and business-facing products we build across our entire family of applications (Facebook, Instagram, Messenger, WhatsApp, Oculus). By applying your technical skills, analytical mindset, and product intuition to one of the richest data sets in the world, you will help define the experiences we build for billions of people and hundreds of millions of businesses around the world. You will collaborate on a wide array of product and business problems with a wide-range of cross-functional partners across Product, Engineering, Research, Data Engineering, Marketing, Sales, Finance and others. You will use data and analysis to identify and solve product development's biggest challenges. You will influence product strategy and investment decisions with data, be focused on impact, and collaborate with other teams. By joining Meta, you will become part of a world-class analytics community dedicated to skill development and career growth in analytics and beyond.\n",
      "\n",
      "Product leadership: You will use data to shape product development, quantify new opportunities, identify upcoming challenges, and ensure the products we build bring value to people, businesses, and Meta. You will help your partner teams prioritize what to build, set goals, and understand their product's ecosystem.\n",
      "\n",
      "Analytics: You will guide teams using data and insights. You will focus on developing hypotheses and employ a varied toolkit of rigorous analytical approaches, different methodologies, frameworks, and technical approaches to test them.\n",
      "\n",
      "Communication and influence: You won't simply present data, but tell data-driven stories. You will convince and influence your partners using clear insights and recommendations. You will build credibility through structure and clarity, and be a trusted strategic partner.Data Scientist, Product Analytics ResponsibilitiesWork with large and complex data sets to solve a wide array of challenging problems using different analytical and statistical approachesApply technical expertise with quantitative analysis, experimentation, data mining, and the presentation of data to develop strategies for our products that serve billions of people and hundreds of millions of businessesIdentify and measure success of product efforts through goal setting, forecasting, and monitoring of key product metrics to understand trendsDefine, understand, and test opportunities and levers to improve the product, and drive roadmaps through your insights and recommendationsPartner with Product, Engineering, and cross-functional teams to inform, influence, support, and execute product strategy and investment decisionsMinimum QualificationsA minimum of 6 years of work experience in analytics (minimum of 4 years with a Ph.D.)Bachelor's degree in Mathematics, Statistics, a relevant technical field, or equivalent practical experienceExperience with data querying languages (e.g. SQL), scripting languages (e.g. Python), and/or statistical/mathematical software (e.g. R)Preferred QualificationsMaster's or Ph.D. Degree in a quantitative field For those who live in or expect to work from California if hired for this position, please click here for additional information. About Meta Meta builds technologies that help people connect, find communities, and grow businesses. When Facebook launched in 2004, it changed the way people connect. Apps like Messenger, Instagram and WhatsApp further empowered billions around the world. Now, Meta is moving beyond 2D screens toward immersive experiences like augmented and virtual reality to help build the next evolution in social technology. People who choose to build their careers by building with us at Meta help shape a future that will take us beyond what digital connection makes possible today—beyond the constraints of screens, the limits of distance, and even the rules of physics. $173,000/year to $242,000/year + bonus + equity + benefitsIndividual compensation is determined by skills, qualifications, experience, and location. Compensation details listed in this posting reflect the base hourly rate, monthly rate, or annual salary only, and do not include bonus, equity or sales incentives, if applicable. In addition to base compensation, Meta offers benefits. Learn more about benefits at Meta.  Equal Employment Opportunity  Meta is proud to be an Equal Employment Opportunity employer. We do not discriminate based upon race, religion, color, national origin, sex (including pregnancy, childbirth, reproductive health decisions, or related medical conditions), sexual orientation, gender identity, gender expression, age, status as a protected veteran, status as an individual with a disability, genetic information, political views or activity, or other applicable legally protected characteristics. You may view our Equal Employment Opportunity notice here.  Meta is committed to providing reasonable accommodations for qualified individuals with disabilities and disabled veterans in our job application procedures. If you need assistance or an accommodation due to a disability, fill out the Accommodations request form. Apply for this jobTake the first step toward a rewarding career at Meta.Apply to this jobAPPLY NOWFind your roleExplore jobs that match your skills and experience. Search by technology, team or location to find an opening that’s right for you.View jobsCareersFollow usJob searchCareer programsResearchStudents and gradsRotational Product ManagementTeamsBusiness teamsTechnology teamsWorking at MetaAccessibility and EngagementBenefitsCultureHiring processMy accountCareer profileAccount settingsMessagesMeta Careers blogAbout usAbout MetaMedia galleryBrand resourcesFor investorsLooking for contractor roles?Equal Employment OpportunityMeta is proud to be an Equal Employment Opportunity employer. We do not discriminate based upon race, religion, color, national origin, sex (including pregnancy, childbirth, reproductive health decisions, or related medical conditions), sexual orientation, gender identity, gender expression, age, status as a protected veteran, status as an individual with a disability, genetic information, political views or activity, or other applicable legally protected characteristics. You may view our Equal Employment Opportunity notice here.Meta is committed to providing reasonable support (called accommodations) in our recruiting processes for candidates with disabilities, long term conditions, mental health conditions or sincerely held religious beliefs, or who are neurodivergent or require pregnancy-related support. If you need assistance or an accommodation due to a disability, fill out the  Accommodations request form .© 2025 MetaCommunity StandardsData PolicyTermsCookie Policy\n",
      "\n",
      "\n",
      "\n",
      "\n",
      "\n",
      "\n",
      "\n",
      "\n",
      "\n",
      "\n",
      "\n",
      "\n",
      "\n",
      "\n",
      "\n",
      "\n",
      "\n",
      "\n",
      "\n",
      "\n",
      "\n",
      "\n",
      "\n",
      "\n",
      "\n",
      "\n",
      "\n",
      "\n",
      "\n",
      "\n",
      "\n",
      "\n",
      "\n",
      "\n",
      "\n",
      "\n",
      "\n",
      "\n",
      "\n",
      "\n",
      "\n",
      "\n",
      "\n",
      "\n",
      "\n",
      "\n",
      "\n",
      "\n",
      "\n",
      "\n",
      "\n",
      "\n",
      "\n",
      "\n",
      "\n",
      "\n",
      "\n",
      "\n",
      "\n",
      "\n",
      "\n",
      "\n",
      "\n",
      "\n",
      "\n",
      "\n",
      "\n",
      "\n",
      "\n",
      "\n",
      "\n",
      "\n",
      "\n",
      "\n",
      "\n",
      "\n",
      "\n",
      "\n",
      "\n"
     ]
    }
   ],
   "source": [
    "from langchain_community.document_loaders import WebBaseLoader\n",
    "\n",
    "loader = WebBaseLoader(\"https://www.metacareers.com/jobs/1070147800777577/\")\n",
    "page_data = loader.load().pop().page_content\n",
    "print(page_data) \n"
   ]
  },
  {
   "cell_type": "code",
   "execution_count": 7,
   "id": "31312ffa",
   "metadata": {},
   "outputs": [
    {
     "data": {
      "text/plain": [
       "str"
      ]
     },
     "execution_count": 7,
     "metadata": {},
     "output_type": "execute_result"
    }
   ],
   "source": [
    "from langchain_core.prompts import PromptTemplate\n",
    "\n",
    "prompt_extract = PromptTemplate.from_template(\n",
    "        \"\"\"\n",
    "        ### SCRAPED TEXT FROM WEBSITE:\n",
    "        {page_data}\n",
    "        ### INSTRUCTION:\n",
    "        The scraped text is from the career's page of a website.\n",
    "        Your job is to extract the job postings and return them in JSON format containing the \n",
    "        following keys: `role`, `experience`, `skills` and `description`.\n",
    "        Only return the valid JSON.\n",
    "        ### VALID JSON (NO PREAMBLE):    \n",
    "        \"\"\"\n",
    ")\n",
    "\n",
    "chain_extract = prompt_extract | llm \n",
    "res = chain_extract.invoke(input={'page_data':page_data})\n",
    "type(res.content)"
   ]
  },
  {
   "cell_type": "code",
   "execution_count": 8,
   "id": "30173bce",
   "metadata": {},
   "outputs": [
    {
     "data": {
      "text/plain": [
       "[{'role': 'Data Scientist, Product Analytics',\n",
       "  'experience': 'A minimum of 6 years of work experience in analytics (minimum of 4 years with a Ph.D.)',\n",
       "  'skills': ['SQL',\n",
       "   'Python',\n",
       "   'R',\n",
       "   'Mathematics',\n",
       "   'Statistics',\n",
       "   'Data querying languages',\n",
       "   'Scripting languages',\n",
       "   'Statistical/mathematical software'],\n",
       "  'description': 'As a Data Scientist at Meta, you will shape the future of people-facing and business-facing products we build across our entire family of applications (Facebook, Instagram, Messenger, WhatsApp, Oculus). By applying your technical skills, analytical mindset, and product intuition to one of the richest data sets in the world, you will help define the experiences we build for billions of people and hundreds of millions of businesses around the world.'}]"
      ]
     },
     "execution_count": 8,
     "metadata": {},
     "output_type": "execute_result"
    }
   ],
   "source": [
    "from langchain_core.output_parsers import JsonOutputParser \n",
    "\n",
    "json_parser = JsonOutputParser()\n",
    "json_res = json_parser.parse(res.content)\n",
    "json_res"
   ]
  },
  {
   "cell_type": "code",
   "execution_count": 9,
   "id": "6afac33e",
   "metadata": {},
   "outputs": [
    {
     "data": {
      "text/plain": [
       "list"
      ]
     },
     "execution_count": 9,
     "metadata": {},
     "output_type": "execute_result"
    }
   ],
   "source": [
    "type(json_res)  ##next step I have to prepare a chromadb"
   ]
  },
  {
   "cell_type": "code",
   "execution_count": 10,
   "id": "20102cf2",
   "metadata": {
    "scrolled": false
   },
   "outputs": [
    {
     "name": "stdout",
     "output_type": "stream",
     "text": [
      "Requirement already satisfied: pypdf in /Users/mjillepalli/anaconda3/lib/python3.11/site-packages (5.4.0)\n",
      "Note: you may need to restart the kernel to use updated packages.\n"
     ]
    }
   ],
   "source": [
    "pip install pypdf"
   ]
  },
  {
   "cell_type": "code",
   "execution_count": 11,
   "id": "0e7c2f40",
   "metadata": {
    "scrolled": false
   },
   "outputs": [
    {
     "name": "stdout",
     "output_type": "stream",
     "text": [
      "Requirement already satisfied: hf_xet in /Users/mjillepalli/anaconda3/lib/python3.11/site-packages (1.0.4)\n",
      "Note: you may need to restart the kernel to use updated packages.\n"
     ]
    }
   ],
   "source": [
    "pip install hf_xet"
   ]
  },
  {
   "cell_type": "code",
   "execution_count": 12,
   "id": "4bf34b9d",
   "metadata": {},
   "outputs": [
    {
     "name": "stdout",
     "output_type": "stream",
     "text": [
      "Loaded 1 page(s) from ManiJ_Resume.pdf\n",
      "Split the resume into 12 chunks.\n"
     ]
    },
    {
     "name": "stderr",
     "output_type": "stream",
     "text": [
      "/var/folders/l9/rmqb54914qb0hxzg0pmw90tm0000gn/T/ipykernel_47904/244743731.py:32: LangChainDeprecationWarning: The class `HuggingFaceEmbeddings` was deprecated in LangChain 0.2.2 and will be removed in 1.0. An updated version of the class exists in the :class:`~langchain-huggingface package and should be used instead. To use it run `pip install -U :class:`~langchain-huggingface` and import as `from :class:`~langchain_huggingface import HuggingFaceEmbeddings``.\n",
      "  embeddings = SentenceTransformerEmbeddings(model_name=\"all-MiniLM-L6-v2\")\n",
      "/Users/mjillepalli/anaconda3/lib/python3.11/site-packages/pandas/core/arrays/masked.py:60: UserWarning: Pandas requires version '1.3.6' or newer of 'bottleneck' (version '1.3.5' currently installed).\n",
      "  from pandas.core import (\n"
     ]
    },
    {
     "name": "stdout",
     "output_type": "stream",
     "text": [
      "Initialized embedding model.\n",
      "Stored 12 resume chunks in ChromaDB collection 'resume_collection' at chroma_db_resume\n"
     ]
    }
   ],
   "source": [
    "\n",
    "# pip install langchain-community chromadb sentence-transformers pypdf uuid\n",
    "\n",
    "import uuid # You already have this imported later, but good to keep here\n",
    "import chromadb # You already have this imported later, but good to keep here\n",
    "from langchain_community.document_loaders import PyPDFLoader\n",
    "from langchain.text_splitter import RecursiveCharacterTextSplitter\n",
    "from langchain_community.embeddings import SentenceTransformerEmbeddings\n",
    "from langchain_community.vectorstores import Chroma\n",
    "\n",
    "# 1. Loading the resume document\n",
    "file_path = \"app/ManiJ_Resume.pdf\"\n",
    "try:\n",
    "    loader = PyPDFLoader(file_path)\n",
    "    documents = loader.load()\n",
    "    print(f\"Loaded {len(documents)} page(s) from {file_path}\")\n",
    "except Exception as e:\n",
    "    print(f\"Error loading document: {e}\")\n",
    "    documents = [] # Ensure documents is empty if loading fails\n",
    "\n",
    "# 2. Splitting the document into chunks ( 1 page for RAG)\n",
    "splits = []\n",
    "if documents:\n",
    "    # Adjusting chunk_size and chunk_overlap as needed for resume\n",
    "    text_splitter = RecursiveCharacterTextSplitter(chunk_size=800, chunk_overlap=150)\n",
    "    splits = text_splitter.split_documents(documents)\n",
    "    print(f\"Split the resume into {len(splits)} chunks.\")\n",
    "else:\n",
    "    print(\"No resume loaded to split.\")\n",
    "\n",
    "# 3. Creating embeddings using a common sentence transformer model\n",
    "embeddings = SentenceTransformerEmbeddings(model_name=\"all-MiniLM-L6-v2\")\n",
    "print(\"Initialized embedding model.\")\n",
    "\n",
    "# 4. Initializing and Populating the ChromaDB for the resume\n",
    "# Use a different persistence directory or collection name than your portfolio DB if it exists\n",
    "persist_directory = \"chroma_db_resume\"\n",
    "collection_name = \"resume_collection\" \n",
    "\n",
    "# Using Chroma.from_documents creates the collection and adds the splits\n",
    "# This will overwrite if you run it multiple times with the same persist_directory and collection_name\n",
    "if splits:\n",
    "    vectorstore = Chroma.from_documents(\n",
    "        documents=splits,\n",
    "        embedding=embeddings,\n",
    "        persist_directory=persist_directory,\n",
    "        collection_name=collection_name\n",
    "    )\n",
    "    print(f\"Stored {len(splits)} resume chunks in ChromaDB collection '{collection_name}' at {persist_directory}\")\n",
    "\n",
    "    # You will now use 'vectorstore' to query your resume content\n",
    "\n",
    "else:\n",
    "    print(\"No resume chunks to store in ChromaDB.\")\n"
   ]
  },
  {
   "cell_type": "code",
   "execution_count": 14,
   "id": "f51b333d",
   "metadata": {},
   "outputs": [
    {
     "name": "stdout",
     "output_type": "stream",
     "text": [
      "Generating email for job: Data Scientist, Product Analytics\n",
      "\n",
      "--- Generated Email ---\n",
      "Here is a cold email from the applicant to the hiring manager for the Data Scientist, Product Analytics role:\n",
      "\n",
      "Subject: Application for Data Scientist, Product Analytics - Mani Chandana J\n",
      "\n",
      "Dear Hiring Manager,\n",
      "\n",
      "I'm excited to apply for the Data Scientist, Product Analytics role at Meta, where I can leverage my technical skills, analytical mindset, and product intuition to shape the future of people-facing and business-facing products across your entire family of applications.\n",
      "\n",
      "With a strong background in SQL, Python, and R, I'm confident in my ability to extract insights from complex data sets and drive product decisions. My experience in data analysis, engineering, and visualization, as well as my proficiency in TensorFlow, PyTorch, and scikit-learn, aligns well with the requirements of this role. I'm impressed by Meta's commitment to using data to inform product decisions and believe my skills would be a valuable asset to the team.\n",
      "\n",
      "In my previous roles, I've successfully designed and implemented ETL pipelines, performed data extraction and transformation, and developed predictive models using techniques like Q-Learning and Recommendation systems. I'm excited about the opportunity to apply my skills to one of the richest data sets in the world and contribute to defining the experiences of billions of people and hundreds of millions of businesses.\n",
      "\n",
      "I'm particularly drawn to Meta's focus on using data to drive product decisions and would be thrilled to discuss how my skills and experience align with the team's goals.\n",
      "\n",
      "Thank you for considering my application. I look forward to the opportunity to discuss this role further.\n",
      "\n",
      "Sincerely,\n",
      "Mani Chandana J\n",
      "-----------------------\n",
      "\n",
      "------------------------------\n"
     ]
    }
   ],
   "source": [
    "\n",
    "# Import necessary libraries (assuming llm is already defined, e.g., from langchain)\n",
    "from langchain_core.prompts import PromptTemplate\n",
    "\n",
    "email_prompt_template = \"\"\"\n",
    "You are an AI assistant that helps write personalized cold emails for job applications.\n",
    "Your goal is to write a concise and compelling email highlighting the applicant's relevant experience\n",
    "based on the provided job description, snippets from their resume, and relevant links.\n",
    "\n",
    "Here is the job description information:\n",
    "Role: {job_role}\n",
    "Skills Required: {job_skills}\n",
    "Job Description Snippet: {job_description_snippet}\n",
    "\n",
    "Here are relevant snippets from the applicant's resume:\n",
    "{resume_snippets}\n",
    "\n",
    "Write a cold email from the applicant to the hiring manager for this role.\n",
    "Focus on connecting the applicant's resume highlights and the content/examples from the links to the job requirements.\n",
    "Keep the email professional and to the point.\n",
    "Include a clear subject line.\n",
    "\n",
    "Subject: Application for {job_role} - [Your Name]\n",
    "\n",
    "Dear Hiring Manager,\n",
    "\n",
    "[Write the email body here, referencing the job requirements, resume snippets, and relevant links]\n",
    "\n",
    "Sincerely,\n",
    "Mani chandana J\n",
    " Do not provide a preamble.\n",
    "        ### EMAIL (NO PREAMBLE):\n",
    "\"\"\"\n",
    "\n",
    "email_prompt = PromptTemplate.from_template(email_prompt_template)\n",
    "\n",
    "# Assume 'llm' is your initialized language model (e.g., from langchain)\n",
    "# llm: BaseLanguageModel # Example type hint\n",
    "\n",
    "# Create a chain to combine the prompt and the language model\n",
    "# Use a simple string output parser if your LLM returns a complex object\n",
    "# email_chain = email_prompt | llm | StrOutputParser()\n",
    "email_chain = email_prompt | llm # Assuming llm directly returns a string or has a simple .content attribute\n",
    "\n",
    "generated_emails = [] # Keep this list to store emails if you need them later\n",
    "\n",
    "\n",
    "\n",
    "\n",
    "\n",
    "# Format the links for the prompt (e.g., as a bulleted list)\n",
    "formatted_links = \"\\n\".join([f\"- {link}\" for link in applicant_relevant_links])\n",
    "# If the list is empty, provide a default message\n",
    "if not formatted_links:\n",
    "    formatted_links = \"No relevant links provided.\"\n",
    "# ----------------------------------------------\n",
    "\n",
    "\n",
    "# Iterate through each job posting in the json_res list\n",
    "for job in json_res:\n",
    "    job_role = job.get('role', 'Unknown Role')\n",
    "    # Ensure job_skills is a string, joining if it's a list\n",
    "    job_skills_list = job.get('skills', [])\n",
    "    job_skills = \", \".join(job_skills_list) if isinstance(job_skills_list, list) else str(job_skills_list)\n",
    "\n",
    "\n",
    "    job_description_snippet = job.get('description', 'No description provided.')\n",
    "\n",
    "    print(f\"Generating email for job: {job_role}\")\n",
    "\n",
    "    # Ensure the 'skills' key exists and is not empty before querying resume\n",
    "    relevant_resume_text = \"No relevant resume snippets found.\"\n",
    "    # Use the processed job_skills for the query\n",
    "    if job_skills:\n",
    "        query_text = job_skills # Use the joined string of skills for the query\n",
    "\n",
    "        # Query the vectorstore to get the top relevant chunks from the resume\n",
    "        # Adjust k as needed to get enough context for the email\n",
    "        documents = vectorstore.similarity_search(query_text, k=3) # Getting top 3 chunks\n",
    "\n",
    "        # Concatenate the content of the relevant resume chunks\n",
    "        if documents:\n",
    "            relevant_resume_text = \"\\n---\\n\".join([doc.page_content for doc in documents])\n",
    "        else:\n",
    "             relevant_resume_text = \"No highly relevant resume snippets found based on skills.\"\n",
    "\n",
    "\n",
    "    # Prepare the input for the email generation chain\n",
    "    email_input = {\n",
    "        'job_role': job_role,\n",
    "        'job_skills': job_skills, # Pass the formatted skills string\n",
    "        'job_description_snippet': job_description_snippet,\n",
    "        'resume_snippets': relevant_resume_text,\n",
    "        'relevant_links': formatted_links # Pass the formatted list of links\n",
    "    }\n",
    "\n",
    "    # Invoke the chain to generate the email\n",
    "    try:\n",
    "        # Assuming llm.invoke returns an object with a .content attribute\n",
    "        generated_email_content = email_chain.invoke(email_input).content\n",
    "        generated_emails.append({'job_role': job_role, 'email': generated_email_content})\n",
    "\n",
    "        # Print the generated email to the notebook output\n",
    "        print(\"\\n--- Generated Email ---\")\n",
    "        print(generated_email_content)\n",
    "        print(\"-----------------------\\n\")\n",
    "\n",
    "    except Exception as e:\n",
    "        print(f\"Error generating email for {job_role}: {e}\")\n",
    "        generated_emails.append({'job_role': job_role, 'email': f\"Failed to generate email: {e}\"})\n",
    "\n",
    "    print(\"-\" * 30) # Separator for clarity between jobs\n",
    "\n",
    "# 'generated_emails' list still contains dictionaries with job role and generated email content\n",
    "# You can access it here if needed after the loop finishes\n"
   ]
  },
  {
   "cell_type": "code",
   "execution_count": null,
   "id": "bdcd5a58",
   "metadata": {
    "scrolled": false
   },
   "outputs": [],
   "source": []
  },
  {
   "cell_type": "code",
   "execution_count": null,
   "id": "8926285a",
   "metadata": {},
   "outputs": [],
   "source": []
  },
  {
   "cell_type": "code",
   "execution_count": null,
   "id": "4d17b04d",
   "metadata": {},
   "outputs": [],
   "source": []
  },
  {
   "cell_type": "code",
   "execution_count": null,
   "id": "d96db2db",
   "metadata": {},
   "outputs": [],
   "source": []
  },
  {
   "cell_type": "code",
   "execution_count": null,
   "id": "0b7d6751",
   "metadata": {},
   "outputs": [],
   "source": []
  },
  {
   "cell_type": "code",
   "execution_count": null,
   "id": "7b0d8833",
   "metadata": {},
   "outputs": [],
   "source": []
  }
 ],
 "metadata": {
  "kernelspec": {
   "display_name": "Python 3 (ipykernel)",
   "language": "python",
   "name": "python3"
  },
  "language_info": {
   "codemirror_mode": {
    "name": "ipython",
    "version": 3
   },
   "file_extension": ".py",
   "mimetype": "text/x-python",
   "name": "python",
   "nbconvert_exporter": "python",
   "pygments_lexer": "ipython3",
   "version": "3.11.5"
  }
 },
 "nbformat": 4,
 "nbformat_minor": 5
}
